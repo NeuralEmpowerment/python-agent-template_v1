{
  "cells": [
    {
      "cell_type": "code",
      "execution_count": null,
      "metadata": {
        "vscode": {
          "languageId": "plaintext"
        }
      },
      "outputs": [],
      "source": [
        "# Basic Agent Example\n",
        "\n",
        "This notebook demonstrates how to create and interact with agents using the agent template.\n",
        "\n",
        "## Setup\n",
        "\n",
        "First, let's set up our environment and imports.\n"
      ]
    },
    {
      "cell_type": "code",
      "execution_count": null,
      "metadata": {},
      "outputs": [],
      "source": [
        "import os\n",
        "import sys\n",
        "import asyncio\n",
        "from pathlib import Path\n",
        "\n",
        "# Add src to path for imports\n",
        "sys.path.insert(0, str(Path.cwd().parent / \"src\"))\n",
        "\n",
        "# Check for OpenAI API key\n",
        "if not os.getenv(\"OPENAI_API_KEY\"):\n",
        "    print(\"⚠️ Please set your OPENAI_API_KEY environment variable\")\n",
        "    print(\"You can get one from: https://platform.openai.com/api-keys\")\n",
        "else:\n",
        "    print(\"✅ OpenAI API key found\")\n"
      ]
    },
    {
      "cell_type": "code",
      "execution_count": null,
      "metadata": {},
      "outputs": [],
      "source": [
        "# Import our agent components\n",
        "from src.agent_project.domain.entities import Agent, AgentRole\n",
        "from src.agent_project.application.services import AgentService\n",
        "from src.agent_project.infrastructure.llm import OpenAIAdapter\n",
        "from src.agent_project.infrastructure.repositories import MemoryConversationRepository\n",
        "\n",
        "print(\"✅ All imports successful!\")\n"
      ]
    },
    {
      "cell_type": "code",
      "execution_count": null,
      "metadata": {},
      "outputs": [],
      "source": [
        "# Create infrastructure components\n",
        "llm_adapter = OpenAIAdapter()\n",
        "conversation_repo = MemoryConversationRepository()\n",
        "agent_service = AgentService(llm_adapter, conversation_repo)\n",
        "\n",
        "print(\"✅ Agent infrastructure ready!\")\n"
      ]
    },
    {
      "cell_type": "code",
      "execution_count": null,
      "metadata": {},
      "outputs": [],
      "source": [
        "# Create a helpful assistant agent\n",
        "agent = await agent_service.create_agent(\n",
        "    name=\"Helpful Assistant\",\n",
        "    role=\"assistant\",\n",
        "    system_prompt=\"\"\"You are a helpful AI assistant. You are knowledgeable, friendly, and concise.\n",
        "    \n",
        "Your role is to:\n",
        "- Answer questions clearly and accurately  \n",
        "- Provide helpful suggestions and guidance\n",
        "- Be conversational and engaging\n",
        "- Admit when you don't know something\n",
        "\n",
        "Keep your responses focused and helpful.\"\"\"\n",
        ")\n",
        "\n",
        "print(f\"✅ Created agent: {agent.get_display_name()}\")\n",
        "print(f\"   ID: {agent.id}\")\n",
        "print(f\"   Model: {agent.model}\")\n",
        "\n",
        "# Start a conversation\n",
        "conversation = await agent_service.start_conversation(agent, title=\"First Chat\")\n",
        "print(f\"✅ Started conversation: {conversation.id}\")\n",
        "\n",
        "# Send a message\n",
        "response = await agent_service.send_message(\n",
        "    conversation, agent, \"Hello! Can you tell me about yourself?\"\n",
        ")\n",
        "print(f\"🤖 {agent.name}: {response}\")\n"
      ]
    }
  ],
  "metadata": {
    "language_info": {
      "name": "python"
    }
  },
  "nbformat": 4,
  "nbformat_minor": 2
}
